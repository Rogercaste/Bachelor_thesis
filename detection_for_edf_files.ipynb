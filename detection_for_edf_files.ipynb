{
  "cells": [
    {
      "cell_type": "markdown",
      "metadata": {
        "id": "view-in-github",
        "colab_type": "text"
      },
      "source": [
        "<a href=\"https://colab.research.google.com/github/Rogercaste/Bachelor_thesis/blob/main/detection_for_edf_files.ipynb\" target=\"_parent\"><img src=\"https://colab.research.google.com/assets/colab-badge.svg\" alt=\"Open In Colab\"/></a>"
      ]
    },
    {
      "cell_type": "code",
      "source": [
        "import pyedflib\n",
        "import numpy as np\n",
        "import matplotlib.pyplot as plt\n",
        "import statistics\n",
        "\n",
        "file_name = 'Hippocampus_R.edf'\n",
        "\n",
        "with pyedflib.EdfReader(file_name) as f:\n",
        "    n = f.signals_in_file\n",
        "    signal_labels = f.getSignalLabels()\n",
        "    f_list= f.getSampleFrequencies()\n",
        "    signals = np.zeros((n, f.getNSamples()[0]))\n",
        "    for i in np.arange(n):\n",
        "        signals[i, :] = f.readSignal(i)\n",
        "print(signals.shape)\n",
        "print(signals[0])\n",
        "\n",
        "from ripple_detection import filter_ripple_band\n",
        "from ripple_detection import Karlsson_ripple_detector, Kay_ripple_detector\n",
        "for i in range(signals.shape[0]):\n",
        "    SAMPLING_FREQUENCY = f_list[i]\n",
        "    lfps = (signals[i])\n",
        "    print(len(lfps))\n",
        "    n_samples = lfps.shape[0]\n",
        "    time = np.linspace(0, int(n_samples/SAMPLING_FREQUENCY), n_samples)\n",
        "    speed = np.ones_like(time)\n",
        "    print(lfps)\n",
        "    lfps = [[x] for x in lfps]\n",
        "    filtered_lfps = filter_ripple_band(np.array(lfps))\n",
        "    Karlsson_ripple_times = Karlsson_ripple_detector(\n",
        "        time, filtered_lfps, speed, SAMPLING_FREQUENCY\n",
        "    )\n",
        "\n",
        "    display(Karlsson_ripple_times)\n",
        "\n",
        "    fig, ax = plt.subplots(figsize=(15, 3))\n",
        "    ax.plot(time, lfps)\n",
        "\n",
        "    #for midtime in true_ripple_midtime:\n",
        "    #    ax.axvspan(\n",
        "    #        midtime - RIPPLE_DURATION / 2,\n",
        "    #        midtime + RIPPLE_DURATION / 2,\n",
        "    #        alpha=0.3,\n",
        "    #        color=\"green\",\n",
        "    #        zorder=9,\n",
        "    #    )\n",
        "\n",
        "    ripple_times=[]\n",
        "    for ripple in Karlsson_ripple_times.itertuples():\n",
        "        ax.axvspan(ripple.start_time, ripple.end_time, alpha=0.3, color=\"red\", zorder=10)\n",
        "        print(ripple.start_time)\n",
        "        ripple_times.append(ripple.start_time)\n",
        "\n",
        "    differences = []\n",
        "    for i in range(len(ripple_times) - 1):\n",
        "        diff = ripple_times[i+1] - ripple_times[i]\n",
        "        differences.append(diff)\n",
        "    print(differences)\n",
        "    if len(differences)>1:\n",
        "        print(\"std=%d\"% statistics.stdev(differences))\n"
      ],
      "metadata": {
        "id": "9TzI4DpAM5Vd"
      },
      "execution_count": null,
      "outputs": []
    },
    {
      "cell_type": "code",
      "source": [],
      "metadata": {
        "id": "fIAxiuczNG5O"
      },
      "execution_count": null,
      "outputs": []
    }
  ],
  "metadata": {
    "colab": {
      "name": "Saca el máximo partido de tu suscripción a Colab",
      "provenance": [],
      "machine_shape": "hm",
      "gpuType": "A100",
      "include_colab_link": true
    },
    "kernelspec": {
      "display_name": "Python 3",
      "name": "python3"
    }
  },
  "nbformat": 4,
  "nbformat_minor": 0
}