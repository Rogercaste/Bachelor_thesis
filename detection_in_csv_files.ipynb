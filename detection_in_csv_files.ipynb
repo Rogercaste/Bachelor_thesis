{
  "cells": [
    {
      "cell_type": "markdown",
      "metadata": {
        "id": "view-in-github",
        "colab_type": "text"
      },
      "source": [
        "<a href=\"https://colab.research.google.com/github/Rogercaste/Bachelor_thesis/blob/main/detection_in_csv_files.ipynb\" target=\"_parent\"><img src=\"https://colab.research.google.com/assets/colab-badge.svg\" alt=\"Open In Colab\"/></a>"
      ]
    },
    {
      "cell_type": "code",
      "source": [
        "import pandas as pd\n",
        "import matplotlib.pyplot as plt\n",
        "import numpy as np\n",
        "from ripple_detection import filter_ripple_band\n",
        "from ripple_detection import Karlsson_ripple_detector, Kay_ripple_detector\n",
        "from scipy import signal\n",
        "\n",
        "df = pd.read_csv()#your csv file here\n",
        "df.head(20)  # displays the first 10 rows of the DataFrame\n",
        "column = df['Cz'] #the data is from the Cz electrode\n",
        "\n",
        "# Convert to Python vector\n",
        "lfps = column.values\n",
        "print(lfps[100])\n",
        "is_nan=np.any(np.isnan(lfps), axis=-1)\n",
        "data=(lfps[~is_nan])\n",
        "print(len(data[0]))\n",
        "\n",
        "\n",
        "lfps = [[x] for x in lfps]\n",
        "lfps = np.array(lfps)\n",
        "print(len(lfps))\n",
        "\n",
        "n_samples = lfps.shape[0]\n",
        "F_s=500\n",
        "time = np.linspace(0, int(n_samples/F_s), n_samples)\n",
        "speed = np.ones_like(time)\n",
        "\n",
        "\n",
        "\n",
        "\n",
        "filtered_lfps = filter_ripple_band(lfps)\n",
        "Karlsson_ripple_times = Karlsson_ripple_detector(\n",
        "    time, filtered_lfps, speed, F_s\n",
        ")\n",
        "\n",
        "display(Karlsson_ripple_times)\n",
        "\n",
        "fig, ax = plt.subplots(figsize=(15, 3))\n",
        "ax.plot(time, lfps)\n",
        "ax.plot(time, filtered_lfps)\n",
        "\n",
        "#for midtime in true_ripple_midtime:\n",
        "#    ax.axvspan(\n",
        "#        midtime - RIPPLE_DURATION / 2,\n",
        "#        midtime + RIPPLE_DURATION / 2,\n",
        "#        alpha=0.3,\n",
        "#        color=\"green\",\n",
        "#        zorder=9,\n",
        "#    )\n",
        "\n",
        "for ripple in Karlsson_ripple_times.itertuples():\n",
        "    ax.axvspan(ripple.start_time, ripple.end_time, alpha=0.3, color=\"red\", zorder=10)\n",
        "    print(ripple.start_time)\n"
      ],
      "metadata": {
        "id": "9TzI4DpAM5Vd"
      },
      "execution_count": null,
      "outputs": []
    },
    {
      "cell_type": "code",
      "source": [],
      "metadata": {
        "id": "fIAxiuczNG5O"
      },
      "execution_count": null,
      "outputs": []
    }
  ],
  "metadata": {
    "colab": {
      "name": "Saca el máximo partido de tu suscripción a Colab",
      "provenance": [],
      "machine_shape": "hm",
      "gpuType": "A100",
      "include_colab_link": true
    },
    "kernelspec": {
      "display_name": "Python 3",
      "name": "python3"
    }
  },
  "nbformat": 4,
  "nbformat_minor": 0
}